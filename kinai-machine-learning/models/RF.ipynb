{
 "cells": [
  {
   "cell_type": "markdown",
   "id": "4f65ebb3",
   "metadata": {},
   "source": [
    "# Random Forest Model - Tabular data"
   ]
  },
  {
   "cell_type": "markdown",
   "id": "ce03369e",
   "metadata": {},
   "source": [
    "## Dataset"
   ]
  },
  {
   "cell_type": "markdown",
   "id": "416b97cc",
   "metadata": {},
   "source": [
    "As usual, we begin by reviweing the dataset we are working with."
   ]
  },
  {
   "cell_type": "code",
   "execution_count": 1,
   "id": "55486e82",
   "metadata": {},
   "outputs": [],
   "source": [
    "import pandas as pd\n",
    "import numpy as np"
   ]
  },
  {
   "cell_type": "code",
   "execution_count": 2,
   "id": "c5b30cd3",
   "metadata": {},
   "outputs": [
    {
     "data": {
      "text/html": [
       "<div>\n",
       "<style scoped>\n",
       "    .dataframe tbody tr th:only-of-type {\n",
       "        vertical-align: middle;\n",
       "    }\n",
       "\n",
       "    .dataframe tbody tr th {\n",
       "        vertical-align: top;\n",
       "    }\n",
       "\n",
       "    .dataframe thead th {\n",
       "        text-align: right;\n",
       "    }\n",
       "</style>\n",
       "<table border=\"1\" class=\"dataframe\">\n",
       "  <thead>\n",
       "    <tr style=\"text-align: right;\">\n",
       "      <th></th>\n",
       "      <th>search_id</th>\n",
       "      <th>num_planet</th>\n",
       "      <th>disposition</th>\n",
       "      <th>ror</th>\n",
       "      <th>stellar_mass</th>\n",
       "      <th>ss_gravity</th>\n",
       "      <th>period</th>\n",
       "      <th>duration</th>\n",
       "      <th>transit_epoch</th>\n",
       "    </tr>\n",
       "  </thead>\n",
       "  <tbody>\n",
       "    <tr>\n",
       "      <th>0</th>\n",
       "      <td>KIC 10797460</td>\n",
       "      <td>1</td>\n",
       "      <td>1</td>\n",
       "      <td>0.022344</td>\n",
       "      <td>0.919</td>\n",
       "      <td>4.467</td>\n",
       "      <td>9.488036</td>\n",
       "      <td>2.95750</td>\n",
       "      <td>2.455004e+06</td>\n",
       "    </tr>\n",
       "    <tr>\n",
       "      <th>1</th>\n",
       "      <td>KIC 10797460</td>\n",
       "      <td>2</td>\n",
       "      <td>1</td>\n",
       "      <td>0.027954</td>\n",
       "      <td>0.919</td>\n",
       "      <td>4.467</td>\n",
       "      <td>54.418383</td>\n",
       "      <td>4.50700</td>\n",
       "      <td>2.454996e+06</td>\n",
       "    </tr>\n",
       "    <tr>\n",
       "      <th>2</th>\n",
       "      <td>KIC 10811496</td>\n",
       "      <td>1</td>\n",
       "      <td>2</td>\n",
       "      <td>0.154046</td>\n",
       "      <td>0.961</td>\n",
       "      <td>4.544</td>\n",
       "      <td>19.899140</td>\n",
       "      <td>1.78220</td>\n",
       "      <td>2.455009e+06</td>\n",
       "    </tr>\n",
       "    <tr>\n",
       "      <th>3</th>\n",
       "      <td>KIC 10848459</td>\n",
       "      <td>1</td>\n",
       "      <td>0</td>\n",
       "      <td>0.387394</td>\n",
       "      <td>0.836</td>\n",
       "      <td>4.564</td>\n",
       "      <td>1.736952</td>\n",
       "      <td>2.40641</td>\n",
       "      <td>2.455003e+06</td>\n",
       "    </tr>\n",
       "    <tr>\n",
       "      <th>4</th>\n",
       "      <td>KIC 10854555</td>\n",
       "      <td>1</td>\n",
       "      <td>1</td>\n",
       "      <td>0.024064</td>\n",
       "      <td>1.095</td>\n",
       "      <td>4.438</td>\n",
       "      <td>2.525592</td>\n",
       "      <td>1.65450</td>\n",
       "      <td>2.455005e+06</td>\n",
       "    </tr>\n",
       "  </tbody>\n",
       "</table>\n",
       "</div>"
      ],
      "text/plain": [
       "      search_id  num_planet  disposition       ror  stellar_mass  ss_gravity  \\\n",
       "0  KIC 10797460           1            1  0.022344         0.919       4.467   \n",
       "1  KIC 10797460           2            1  0.027954         0.919       4.467   \n",
       "2  KIC 10811496           1            2  0.154046         0.961       4.544   \n",
       "3  KIC 10848459           1            0  0.387394         0.836       4.564   \n",
       "4  KIC 10854555           1            1  0.024064         1.095       4.438   \n",
       "\n",
       "      period  duration  transit_epoch  \n",
       "0   9.488036   2.95750   2.455004e+06  \n",
       "1  54.418383   4.50700   2.454996e+06  \n",
       "2  19.899140   1.78220   2.455009e+06  \n",
       "3   1.736952   2.40641   2.455003e+06  \n",
       "4   2.525592   1.65450   2.455005e+06  "
      ]
     },
     "execution_count": 2,
     "metadata": {},
     "output_type": "execute_result"
    }
   ],
   "source": [
    "df = pd.read_csv(\"kepler_tess_dataset-2.csv\")\n",
    "\n",
    "df.drop(\"Unnamed: 0\", axis=1, inplace=True)\n",
    "\n",
    "df.head()\n",
    "\n"
   ]
  },
  {
   "cell_type": "code",
   "execution_count": 3,
   "id": "a32cf1f4",
   "metadata": {},
   "outputs": [
    {
     "data": {
      "text/plain": [
       "(15752, 9)"
      ]
     },
     "execution_count": 3,
     "metadata": {},
     "output_type": "execute_result"
    }
   ],
   "source": [
    "df.shape"
   ]
  },
  {
   "cell_type": "code",
   "execution_count": 4,
   "id": "1ff04136",
   "metadata": {},
   "outputs": [
    {
     "data": {
      "text/html": [
       "<div>\n",
       "<style scoped>\n",
       "    .dataframe tbody tr th:only-of-type {\n",
       "        vertical-align: middle;\n",
       "    }\n",
       "\n",
       "    .dataframe tbody tr th {\n",
       "        vertical-align: top;\n",
       "    }\n",
       "\n",
       "    .dataframe thead th {\n",
       "        text-align: right;\n",
       "    }\n",
       "</style>\n",
       "<table border=\"1\" class=\"dataframe\">\n",
       "  <thead>\n",
       "    <tr style=\"text-align: right;\">\n",
       "      <th></th>\n",
       "      <th>search_id</th>\n",
       "      <th>num_planet</th>\n",
       "      <th>disposition</th>\n",
       "      <th>ror</th>\n",
       "      <th>stellar_mass</th>\n",
       "      <th>ss_gravity</th>\n",
       "      <th>period</th>\n",
       "      <th>duration</th>\n",
       "      <th>transit_epoch</th>\n",
       "    </tr>\n",
       "  </thead>\n",
       "  <tbody>\n",
       "    <tr>\n",
       "      <th>0</th>\n",
       "      <td>KIC 10797460</td>\n",
       "      <td>1</td>\n",
       "      <td>1</td>\n",
       "      <td>0.022344</td>\n",
       "      <td>0.919</td>\n",
       "      <td>4.467</td>\n",
       "      <td>9.488036</td>\n",
       "      <td>2.95750</td>\n",
       "      <td>2.455004e+06</td>\n",
       "    </tr>\n",
       "    <tr>\n",
       "      <th>1</th>\n",
       "      <td>KIC 10797460</td>\n",
       "      <td>2</td>\n",
       "      <td>1</td>\n",
       "      <td>0.027954</td>\n",
       "      <td>0.919</td>\n",
       "      <td>4.467</td>\n",
       "      <td>54.418383</td>\n",
       "      <td>4.50700</td>\n",
       "      <td>2.454996e+06</td>\n",
       "    </tr>\n",
       "    <tr>\n",
       "      <th>3</th>\n",
       "      <td>KIC 10848459</td>\n",
       "      <td>1</td>\n",
       "      <td>0</td>\n",
       "      <td>0.387394</td>\n",
       "      <td>0.836</td>\n",
       "      <td>4.564</td>\n",
       "      <td>1.736952</td>\n",
       "      <td>2.40641</td>\n",
       "      <td>2.455003e+06</td>\n",
       "    </tr>\n",
       "    <tr>\n",
       "      <th>4</th>\n",
       "      <td>KIC 10854555</td>\n",
       "      <td>1</td>\n",
       "      <td>1</td>\n",
       "      <td>0.024064</td>\n",
       "      <td>1.095</td>\n",
       "      <td>4.438</td>\n",
       "      <td>2.525592</td>\n",
       "      <td>1.65450</td>\n",
       "      <td>2.455005e+06</td>\n",
       "    </tr>\n",
       "    <tr>\n",
       "      <th>5</th>\n",
       "      <td>KIC 10872983</td>\n",
       "      <td>1</td>\n",
       "      <td>1</td>\n",
       "      <td>0.036779</td>\n",
       "      <td>1.053</td>\n",
       "      <td>4.486</td>\n",
       "      <td>11.094321</td>\n",
       "      <td>4.59450</td>\n",
       "      <td>2.455004e+06</td>\n",
       "    </tr>\n",
       "  </tbody>\n",
       "</table>\n",
       "</div>"
      ],
      "text/plain": [
       "      search_id  num_planet  disposition       ror  stellar_mass  ss_gravity  \\\n",
       "0  KIC 10797460           1            1  0.022344         0.919       4.467   \n",
       "1  KIC 10797460           2            1  0.027954         0.919       4.467   \n",
       "3  KIC 10848459           1            0  0.387394         0.836       4.564   \n",
       "4  KIC 10854555           1            1  0.024064         1.095       4.438   \n",
       "5  KIC 10872983           1            1  0.036779         1.053       4.486   \n",
       "\n",
       "      period  duration  transit_epoch  \n",
       "0   9.488036   2.95750   2.455004e+06  \n",
       "1  54.418383   4.50700   2.454996e+06  \n",
       "3   1.736952   2.40641   2.455003e+06  \n",
       "4   2.525592   1.65450   2.455005e+06  \n",
       "5  11.094321   4.59450   2.455004e+06  "
      ]
     },
     "execution_count": 4,
     "metadata": {},
     "output_type": "execute_result"
    }
   ],
   "source": [
    "df_F = df[df['disposition'] != 2]\n",
    "\n",
    "df_F.head()\n"
   ]
  },
  {
   "cell_type": "code",
   "execution_count": 5,
   "id": "775cf2ab",
   "metadata": {},
   "outputs": [
    {
     "data": {
      "text/plain": [
       "(8689, 9)"
      ]
     },
     "execution_count": 5,
     "metadata": {},
     "output_type": "execute_result"
    }
   ],
   "source": [
    "df_F.shape"
   ]
  },
  {
   "cell_type": "code",
   "execution_count": 6,
   "id": "a681ed82",
   "metadata": {},
   "outputs": [
    {
     "data": {
      "text/plain": [
       "disposition\n",
       "0    5042\n",
       "1    3647\n",
       "Name: count, dtype: int64"
      ]
     },
     "execution_count": 6,
     "metadata": {},
     "output_type": "execute_result"
    }
   ],
   "source": [
    "df_F.value_counts(\"disposition\")"
   ]
  },
  {
   "cell_type": "markdown",
   "id": "6430b587",
   "metadata": {},
   "source": [
    "# Random Forest training"
   ]
  },
  {
   "cell_type": "markdown",
   "id": "5bd94414",
   "metadata": {},
   "source": [
    "For the tabular data, we use a simple random forest model trained on both Kepler and TESS datasets"
   ]
  },
  {
   "cell_type": "code",
   "execution_count": 13,
   "id": "034baf1c",
   "metadata": {},
   "outputs": [],
   "source": [
    "import pandas as pd\n",
    "import numpy as np\n",
    "from sklearn.model_selection import GroupShuffleSplit\n",
    "from sklearn.ensemble import RandomForestClassifier\n",
    "import matplotlib.pyplot as plt\n",
    "import seaborn as sns\n",
    "from sklearn.metrics import confusion_matrix"
   ]
  },
  {
   "cell_type": "markdown",
   "id": "dfbba98e",
   "metadata": {},
   "source": [
    "### Data splitting"
   ]
  },
  {
   "cell_type": "markdown",
   "id": "3fad3394",
   "metadata": {},
   "source": [
    "If just split without any caution, signals from the same star may end up in both the train and test datasets, and the model may learn some features based on the star (like having this star is more likely to be an exoplanet, which is nonsense), therefore we split considering ´´´search_id´´´"
   ]
  },
  {
   "cell_type": "code",
   "execution_count": 14,
   "id": "0b826d0c",
   "metadata": {},
   "outputs": [
    {
     "name": "stdout",
     "output_type": "stream",
     "text": [
      "Shapes:\n",
      "  X_train: (6983, 6)  X_test: (1706, 6)\n",
      "\n",
      "Class balance:\n",
      "  Train:\n",
      " disposition\n",
      "FP %        0.573679\n",
      "Planet %    0.426321\n",
      "Name: proportion, dtype: float64\n",
      "\n",
      "  Test:\n",
      " disposition\n",
      "FP %        0.607268\n",
      "Planet %    0.392732\n",
      "Name: proportion, dtype: float64\n",
      "\n",
      "Unique stars:\n",
      "  Train stars: 6157\n",
      "  Test  stars: 1540\n"
     ]
    }
   ],
   "source": [
    "\n",
    "df = df_F[df_F['disposition'].isin([0, 1])].copy()\n",
    "\n",
    "feature_cols = ['ror', 'stellar_mass', 'ss_gravity', 'period', 'duration', 'transit_epoch']\n",
    "\n",
    "X = df[feature_cols]\n",
    "y = df['disposition'].astype(int)\n",
    "\n",
    "groups = df['search_id']\n",
    "\n",
    "# Grouped split ensures all rows from the same search_id stay in the same split\n",
    "gss = GroupShuffleSplit(n_splits=1, test_size=0.2, random_state=42)\n",
    "train_idx, test_idx = next(gss.split(X, y, groups=groups))\n",
    "\n",
    "X_train, X_test = X.iloc[train_idx], X.iloc[test_idx]\n",
    "y_train, y_test = y.iloc[train_idx], y.iloc[test_idx]\n",
    "groups_train = groups.iloc[train_idx]\n",
    "groups_test  = groups.iloc[test_idx]\n",
    "\n",
    "\n",
    "# report\n",
    "print(\"Shapes:\")\n",
    "print(\"  X_train:\", X_train.shape, \" X_test:\", X_test.shape)\n",
    "\n",
    "print(\"\\nClass balance:\")\n",
    "print(\"  Train:\\n\", y_train.value_counts(normalize=True).rename({0:'FP %', 1:'Planet %'}))\n",
    "print(\"\\n  Test:\\n\",  y_test.value_counts(normalize=True).rename({0:'FP %', 1:'Planet %'}))\n",
    "\n",
    "# unique stars per split\n",
    "print(\"\\nUnique stars:\")\n",
    "print(\"  Train stars:\", groups_train.nunique())\n",
    "print(\"  Test  stars:\", groups_test.nunique())\n"
   ]
  },
  {
   "cell_type": "code",
   "execution_count": 15,
   "id": "2ae518aa",
   "metadata": {},
   "outputs": [
    {
     "name": "stdout",
     "output_type": "stream",
     "text": [
      "Trained RandomForestClassifier.\n"
     ]
    }
   ],
   "source": [
    "# Random Forest training\n",
    "\n",
    "rf = RandomForestClassifier(\n",
    "    n_estimators=500,\n",
    "    max_depth=6,\n",
    "    min_samples_split=5,\n",
    "    min_samples_leaf=1,\n",
    "    max_features=\"sqrt\",\n",
    "    n_jobs=-1,\n",
    "    random_state=42\n",
    ")\n",
    "\n",
    "rf.fit(X_train, y_train)\n",
    "\n",
    "print(\"Trained RandomForestClassifier.\")\n"
   ]
  },
  {
   "cell_type": "markdown",
   "id": "96fb5cce",
   "metadata": {},
   "source": [
    "### Evaluation metrics"
   ]
  },
  {
   "cell_type": "markdown",
   "id": "6713a135",
   "metadata": {},
   "source": [
    "To make sure we our model is not overfitting, we review accuracy, precision, recall, F1, ROC AUC and log loss in both train and test dataset. A balanced model should have similar values and those from the train should be slightly greater than those from the test.\n"
   ]
  },
  {
   "cell_type": "code",
   "execution_count": 19,
   "id": "85ff6f41",
   "metadata": {},
   "outputs": [
    {
     "name": "stdout",
     "output_type": "stream",
     "text": [
      "\n",
      "===== RandomForest (rf) =====\n",
      "\n",
      "--- Train ---\n",
      "Accuracy:  0.8599\n",
      "Precision: 0.7865\n",
      "Recall:    0.9217\n",
      "F1-score:  0.8487\n",
      "ROC AUC:   0.9268\n",
      "Log loss:  0.3552\n",
      "Brier:     0.1098\n",
      "\n",
      "--- Test ---\n",
      "Accuracy:  0.8523\n",
      "Precision: 0.7659\n",
      "Recall:    0.8985\n",
      "F1-score:  0.8269\n",
      "ROC AUC:   0.9225\n",
      "Log loss:  0.3641\n",
      "Brier:     0.1131\n"
     ]
    }
   ],
   "source": [
    "import numpy as np\n",
    "from sklearn.metrics import (\n",
    "    accuracy_score, precision_score, recall_score, f1_score,\n",
    "    roc_auc_score, log_loss, brier_score_loss, confusion_matrix,\n",
    "    classification_report\n",
    ")\n",
    "\n",
    "def _proba_or_decision(model, X):\n",
    "    \"\"\"Return positive-class probability if available, else a normalized score for ROC/log-loss.\"\"\"\n",
    "    if hasattr(model, \"predict_proba\"):\n",
    "        return model.predict_proba(X)[:, 1]\n",
    "    elif hasattr(model, \"decision_function\"):\n",
    "        # Map decision scores to [0,1] with a logistic transform for log_loss/Brier (approximate)\n",
    "        scores = model.decision_function(X)\n",
    "        return 1 / (1 + np.exp(-scores))\n",
    "    else:\n",
    "        # Fall back to hard predictions (ROC/log-loss won’t be meaningful)\n",
    "        return model.predict(X).astype(float)\n",
    "\n",
    "def eval_model(name, model, X_train, y_train, X_test, y_test):\n",
    "    print(f\"\\n===== {name} =====\")\n",
    "\n",
    "    # Predictions\n",
    "    yhat_tr = model.predict(X_train)\n",
    "    yhat_te = model.predict(X_test)\n",
    "\n",
    "    # Probabilities / scores for probabilistic metrics\n",
    "    p_tr = _proba_or_decision(model, X_train)\n",
    "    p_te = _proba_or_decision(model, X_test)\n",
    "\n",
    "    # ---- TRAIN ----\n",
    "    acc_tr  = accuracy_score(y_train, yhat_tr)\n",
    "    prec_tr = precision_score(y_train, yhat_tr, zero_division=0)\n",
    "    rec_tr  = recall_score(y_train, yhat_tr, zero_division=0)\n",
    "    f1_tr   = f1_score(y_train, yhat_tr)\n",
    "    roc_tr  = roc_auc_score(y_train, p_tr) if len(np.unique(y_train)) == 2 else np.nan\n",
    "    ll_tr   = log_loss(y_train, np.c_[1-p_tr, p_tr], labels=[0,1])\n",
    "    br_tr   = brier_score_loss(y_train, p_tr)\n",
    "\n",
    "    # ---- TEST ----\n",
    "    acc_te  = accuracy_score(y_test, yhat_te)\n",
    "    prec_te = precision_score(y_test, yhat_te, zero_division=0)\n",
    "    rec_te  = recall_score(y_test, yhat_te, zero_division=0)\n",
    "    f1_te   = f1_score(y_test, yhat_te)\n",
    "    roc_te  = roc_auc_score(y_test, p_te) if len(np.unique(y_test)) == 2 else np.nan\n",
    "    ll_te   = log_loss(y_test, np.c_[1-p_te, p_te], labels=[0,1])\n",
    "    br_te   = brier_score_loss(y_test, p_te)\n",
    "\n",
    "    # Print summary\n",
    "    print(\"\\n--- Train ---\")\n",
    "    print(f\"Accuracy:  {acc_tr:6.4f}\")\n",
    "    print(f\"Precision: {prec_tr:6.4f}\")\n",
    "    print(f\"Recall:    {rec_tr:6.4f}\")\n",
    "    print(f\"F1-score:  {f1_tr:6.4f}\")\n",
    "    print(f\"ROC AUC:   {roc_tr:6.4f}\")\n",
    "    print(f\"Log loss:  {ll_tr:6.4f}\")\n",
    "    print(f\"Brier:     {br_tr:6.4f}\")\n",
    "\n",
    "    print(\"\\n--- Test ---\")\n",
    "    print(f\"Accuracy:  {acc_te:6.4f}\")\n",
    "    print(f\"Precision: {prec_te:6.4f}\")\n",
    "    print(f\"Recall:    {rec_te:6.4f}\")\n",
    "    print(f\"F1-score:  {f1_te:6.4f}\")\n",
    "    print(f\"ROC AUC:   {roc_te:6.4f}\")\n",
    "    print(f\"Log loss:  {ll_te:6.4f}\")\n",
    "    print(f\"Brier:     {br_te:6.4f}\")\n",
    "\n",
    "# Run evaluations\n",
    "eval_model(\"RandomForest (rf)\", rf, X_train, y_train, X_test, y_test)\n",
    "\n"
   ]
  },
  {
   "cell_type": "code",
   "execution_count": 18,
   "id": "15fedd56",
   "metadata": {},
   "outputs": [
    {
     "name": "stdout",
     "output_type": "stream",
     "text": [
      "\n",
      "Confusion matrix (Test) [rows=true, cols=pred]:\n",
      "[[852 184]\n",
      " [ 68 602]]\n",
      "TN=852, FP=184, FN=68, TP=602\n"
     ]
    },
    {
     "data": {
      "image/png": "[encoded data removed]",
      "text/plain": [
       "<Figure size 500x400 with 1 Axes>"
      ]
     },
     "metadata": {},
     "output_type": "display_data"
    }
   ],
   "source": [
    "# confusion matrix plot\n",
    "\n",
    "yhat_te = rf.predict(X_test)\n",
    "\n",
    "# Compute confusion matrix\n",
    "cm = confusion_matrix(y_test, yhat_te, labels=[0, 1])\n",
    "tn, fp, fn, tp = cm.ravel()\n",
    "\n",
    "print(\"\\nConfusion matrix (Test) [rows=true, cols=pred]:\")\n",
    "print(cm)\n",
    "print(f\"TN={tn}, FP={fp}, FN={fn}, TP={tp}\")\n",
    "\n",
    "plt.figure(figsize=(5, 4))\n",
    "sns.heatmap(cm, annot=True, fmt='d', cmap='Blues', cbar=False,\n",
    "            xticklabels=['Pred Non-Planet', 'Pred Planet'],\n",
    "            yticklabels=['True Non-Planet', 'True Planet'])\n",
    "plt.title('Confusion Matrix - Test')\n",
    "plt.xlabel('Predicted Label')\n",
    "plt.ylabel('True Label')\n",
    "plt.tight_layout()\n",
    "plt.show()\n"
   ]
  },
  {
   "cell_type": "markdown",
   "id": "329ef537",
   "metadata": {},
   "source": [
    "It was found that max_depth has the greatest impact on overfitting; therefore, we sweep over a continuous range of integers to find the one that offers the best balance."
   ]
  },
  {
   "cell_type": "code",
   "execution_count": 23,
   "id": "1a5f4a3b",
   "metadata": {},
   "outputs": [
    {
     "data": {
      "image/png": "[encoded data removed]",
      "text/plain": [
       "<Figure size 800x600 with 1 Axes>"
      ]
     },
     "metadata": {},
     "output_type": "display_data"
    }
   ],
   "source": [
    "# we sweep over max_depth values\n",
    "\n",
    "depths = list(range(1, 21)) \n",
    "train_acc = []\n",
    "test_acc = []\n",
    "\n",
    "for d in depths:\n",
    "    rf = RandomForestClassifier(\n",
    "        n_estimators=500,\n",
    "        max_depth=d,\n",
    "        min_samples_split=5,\n",
    "        min_samples_leaf=1,\n",
    "        max_features=\"sqrt\",\n",
    "        n_jobs=-1,\n",
    "        random_state=42\n",
    "    )\n",
    "    rf.fit(X_train, y_train)\n",
    "    \n",
    "    y_pred_train = rf.predict(X_train)\n",
    "    y_pred_test = rf.predict(X_test)\n",
    "    \n",
    "    train_acc.append(accuracy_score(y_train, y_pred_train))\n",
    "    test_acc.append(accuracy_score(y_test, y_pred_test))\n",
    "\n",
    "# plot\n",
    "plt.figure(figsize=(8,6))\n",
    "plt.plot(depths, train_acc, marker=\"o\", label=\"Train Accuracy\")\n",
    "plt.plot(depths, test_acc, marker=\"s\", label=\"Test Accuracy\")\n",
    "plt.xlabel(\"Max Depth\")\n",
    "plt.ylabel(\"Accuracy\")\n",
    "plt.title(\"Train vs Test Accuracy - Random Forest\")\n",
    "plt.xticks(depths)\n",
    "plt.yticks(np.arange(0.725, 1.025, 0.025))\n",
    "plt.legend()\n",
    "plt.grid(True)\n",
    "plt.show()\n"
   ]
  },
  {
   "cell_type": "markdown",
   "id": "f381e086",
   "metadata": {},
   "source": [
    "## Saving Model"
   ]
  },
  {
   "cell_type": "code",
   "execution_count": 32,
   "id": "ce172881",
   "metadata": {},
   "outputs": [
    {
     "name": "stdout",
     "output_type": "stream",
     "text": [
      "Model saved as random_forest_exoplanets.pkl\n"
     ]
    }
   ],
   "source": [
    "import joblib\n",
    "\n",
    "# Example: assume you already trained rf\n",
    "#rf.fit(X_train, y_train)\n",
    "\n",
    "# Save the model\n",
    "joblib.dump(rf, \"random_forest_exoplanets.pkl\")\n",
    "print(\"Model saved as random_forest_exoplanets.pkl\")\n"
   ]
  },
  {
   "cell_type": "code",
   "execution_count": 33,
   "id": "de1caabf",
   "metadata": {},
   "outputs": [
    {
     "name": "stdout",
     "output_type": "stream",
     "text": [
      "Loaded model test accuracy: 0.8522860492379836\n"
     ]
    }
   ],
   "source": [
    "# Load the model back\n",
    "rf_loaded = joblib.load(\"random_forest_exoplanets.pkl\")\n",
    "\n",
    "# Use it for predictions\n",
    "y_pred = rf_loaded.predict(X_test)\n",
    "y_proba = rf_loaded.predict_proba(X_test)[:, 1]\n",
    "\n",
    "print(\"Loaded model test accuracy:\", (y_pred == y_test).mean())\n"
   ]
  },
  {
   "cell_type": "code",
   "execution_count": null,
   "id": "01f5b852",
   "metadata": {},
   "outputs": [],
   "source": []
  }
 ],
 "metadata": {
  "kernelspec": {
   "display_name": "exoplanet",
   "language": "python",
   "name": "python3"
  },
  "language_info": {
   "codemirror_mode": {
    "name": "ipython",
    "version": 3
   },
   "file_extension": ".py",
   "mimetype": "text/x-python",
   "name": "python",
   "nbconvert_exporter": "python",
   "pygments_lexer": "ipython3",
   "version": "3.12.11"
  }
 },
 "nbformat": 4,
 "nbformat_minor": 5
}
