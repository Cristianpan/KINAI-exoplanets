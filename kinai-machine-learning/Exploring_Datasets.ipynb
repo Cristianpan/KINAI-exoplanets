{
 "cells": [
  {
   "cell_type": "markdown",
   "id": "4f65ebb3",
   "metadata": {},
   "source": [
    "# Introduction"
   ]
  },
  {
   "cell_type": "markdown",
   "id": "7c0caf64",
   "metadata": {},
   "source": [
    "## Dataset review"
   ]
  },
  {
   "cell_type": "markdown",
   "id": "57bc7a04",
   "metadata": {},
   "source": [
    "We start by checking the datasets available:"
   ]
  },
  {
   "cell_type": "code",
   "execution_count": null,
   "id": "55486e82",
   "metadata": {},
   "outputs": [],
   "source": [
    "from google.colab import drive\n",
    "drive.mount(\"/content/drive\")\n",
    "koi_url = \"/content/drive/My Drive/Nasa Space Apps Challenge/datos/cumulative_2025.09_28_15_59_12.csv\""
   ]
  },
  {
   "cell_type": "code",
   "execution_count": null,
   "id": "c89b5130",
   "metadata": {},
   "outputs": [],
   "source": [
    "import pandas as pd\n",
    "import numpy as np\n",
    "import seaborn as sns\n",
    "import matplotlib.pyplot as plt"
   ]
  },
  {
   "cell_type": "code",
   "execution_count": null,
   "id": "7aa5df0f",
   "metadata": {},
   "outputs": [],
   "source": [
    "usecols=[\n",
    "    \"koi_disposition\",  # Exoplanet Archive Disposition (our label)\n",
    "    # \"koi_score\",        # Disposition Score\n",
    "    \"koi_period\",       # Orbital Period [days]\n",
    "    \"koi_time0bk\",      # Transit Epoch [BKJD]\n",
    "    \"koi_impact\",       # Impact Parameter\n",
    "    \"koi_duration\",     # Transit Duration [hrs]\n",
    "    \"koi_prad\",         # Planetary Radius [Earth radii]\n",
    "    \"koi_depth\",        # Transit Depth [ppm]\n",
    "    \"koi_teq\",          # Equilibrium Temperature [K]\n",
    "    \"koi_insol\",        # Insolation Flux [Earth flux]\n",
    "    #\"koi_dor\",            # Planet-Star Distance over Star Radius\n",
    "    \"koi_model_snr\",    # Transit Signal-to-Noise\n",
    "    \"koi_steff\",        # Stellar Effective Temperature [K]\n",
    "    \"koi_slogg\",        # Stellar Surface Gravity [log10(cm/s**2)]\n",
    "    \"koi_srad\",         # Stellar Radius [Solar radii]\n",
    "    \"koi_kepmag\",       # Kepler-band [mag]\n",
    "]\n",
    "print(f\"total of {len(usecols)} columns to analyse\")\n",
    "\n",
    "data = pd.read_csv(koi_url, comment=\"#\", usecols=usecols).dropna()\n",
    "data[\"koi_disposition\"] = data[\"koi_disposition\"].map({\n",
    "    \"CANDIDATE\": -1,\n",
    "    \"FALSE POSITIVE\": 0,\n",
    "    \"CONFIRMED\": 1,\n",
    "})\n",
    "\n",
    "# nan_rows = data[data.isna().any(axis=1)]\n",
    "\n",
    "# nan_rows\n",
    "\n",
    "data.describe()"
   ]
  },
  {
   "cell_type": "code",
   "execution_count": null,
   "id": "fd36a152",
   "metadata": {},
   "outputs": [],
   "source": [
    "filter_mask = data[\"koi_disposition\"] != -1\n",
    "clean_data = data[filter_mask]\n",
    "\n",
    "# Transform values into binary\n",
    "X = clean_data.iloc[:, 1:]\n",
    "y = clean_data[\"koi_disposition\"]\n",
    "\n",
    "X.shape"
   ]
  },
  {
   "cell_type": "code",
   "execution_count": null,
   "id": "9dc6015f",
   "metadata": {},
   "outputs": [],
   "source": [
    "corr = clean_data.corr()\n",
    "plt.figure(figsize=(15,10))\n",
    "sns.heatmap(corr, annot=True, cmap=\"coolwarm\")"
   ]
  },
  {
   "cell_type": "markdown",
   "id": "7c02e066",
   "metadata": {},
   "source": [
    "## Joining datasets"
   ]
  },
  {
   "cell_type": "markdown",
   "id": "946ee1c6",
   "metadata": {},
   "source": [
    "We desire to merge TESS and Kepler datasets to obtain more information, therefore, we begin the merging process:"
   ]
  },
  {
   "cell_type": "code",
   "execution_count": null,
   "id": "eaf0a812",
   "metadata": {},
   "outputs": [],
   "source": [
    "base_folder = \"/content/drive/MyDrive/Nasa Space Apps Challenge\"\n",
    "kepler_folder = f\"{base_folder}/NASA_archive/kepler.csv\"\n",
    "tess_folder = f\"{base_folder}/NASA_archive/tess.csv\"\n",
    "processed_data_folter = f\"{base_folder}/processed_data\""
   ]
  },
  {
   "cell_type": "code",
   "execution_count": null,
   "id": "5018ced4",
   "metadata": {},
   "outputs": [],
   "source": [
    "import pandas as pd\n",
    "\n",
    "kepler_df = pd.read_csv(kepler_folder, comment=\"#\")\n",
    "tess_df = pd.read_csv(tess_folder, skiprows=1)"
   ]
  },
  {
   "cell_type": "code",
   "execution_count": null,
   "id": "b41fd181",
   "metadata": {},
   "outputs": [],
   "source": [
    "kepler_df.describe()"
   ]
  },
  {
   "cell_type": "code",
   "execution_count": null,
   "id": "9e83f643",
   "metadata": {},
   "outputs": [],
   "source": [
    "tess_df.describe()"
   ]
  },
  {
   "cell_type": "code",
   "execution_count": null,
   "id": "df978049",
   "metadata": {},
   "outputs": [],
   "source": [
    "print(kepler_df.shape)\n",
    "print(tess_df.shape)\n",
    "\n",
    "kepler_df.dropna(inplace=True)\n",
    "tess_df.dropna(inplace=True)\n",
    "\n",
    "print(kepler_df.shape)\n",
    "print(tess_df.shape)\n",
    "print(f\"final length -> {kepler_df.shape[0] + tess_df.shape[0]}\")"
   ]
  },
  {
   "cell_type": "markdown",
   "id": "53980d45",
   "metadata": {},
   "source": [
    "Transform Kepler dataset"
   ]
  },
  {
   "cell_type": "code",
   "execution_count": null,
   "id": "a50c681d",
   "metadata": {},
   "outputs": [],
   "source": [
    "kepler_df[\"kepid\"] = \"KIC \" + kepler_df[\"kepid\"].astype(str)\n",
    "kepler_df.columns = [\"search_id\", \"num_planet\", \"disposition\", \"ror\", \"stellar_mass\", \"ss_gravity\", \"period\", \"duration\", \"transit_epoch\"]\n",
    "kepler_df[\"transit_epoch\"] = kepler_df[\"transit_epoch\"] + 2454833\n",
    "kepler_df[\"num_planet\"] = kepler_df[\"num_planet\"].str.split(\".\").str[1].astype(int)\n",
    "kepler_mapping = {\n",
    "    \"FALSE POSITIVE\": 0,\n",
    "    \"CONFIRMED\": 1,\n",
    "    \"CANDIDATE\": 2,\n",
    "}\n",
    "kepler_df[\"disposition\"] = kepler_df[\"disposition\"].map(kepler_mapping)\n",
    "kepler_df.head()"
   ]
  },
  {
   "cell_type": "markdown",
   "id": "398706e0",
   "metadata": {},
   "source": [
    "Transform TESS dataset"
   ]
  },
  {
   "cell_type": "code",
   "execution_count": null,
   "id": "849285d2",
   "metadata": {},
   "outputs": [],
   "source": [
    "tess_df[\"TIC ID\"] = \"TIC \" + tess_df[\"TIC ID\"].astype(str)\n",
    "tess_df[\"ror\"] = tess_df[\"Planet Radius (R_Earth)\"] / tess_df[\"Stellar Radius (R_Sun)\"] * 0.009168 # R_earth / R_sun\n",
    "tess_df.drop([\"Planet Radius (R_Earth)\", \"Stellar Radius (R_Sun)\"], axis=1, inplace=True)\n",
    "tess_df.columns = [\"search_id\", \"num_planet\", \"disposition\", \"stellar_mass\", \"ss_gravity\", \"period\", \"duration\", \"transit_epoch\", \"ror\"]\n",
    "tess_df[\"num_planet\"] = tess_df[\"num_planet\"].astype(str).str.split(\".\").str[1].astype(int)\n",
    "tess_mapping = {\n",
    "    \"KP\": 1,\n",
    "    \"CP\": 1,\n",
    "    'PC': 2,\n",
    "    'IS': 0,\n",
    "    'EB': 0,\n",
    "    'V': 0,\n",
    "    'O': 0,\n",
    "    'FP': 0,\n",
    "}\n",
    "tess_df[\"disposition\"] = tess_df[\"disposition\"].map(tess_mapping)\n",
    "\n",
    "tess_df.head()"
   ]
  },
  {
   "cell_type": "code",
   "execution_count": null,
   "id": "8e870f27",
   "metadata": {},
   "outputs": [],
   "source": [
    "data = pd.concat([kepler_df, tess_df], ignore_index=True)\n",
    "data"
   ]
  },
  {
   "cell_type": "code",
   "execution_count": null,
   "id": "8348608a",
   "metadata": {},
   "outputs": [],
   "source": [
    "import os\n",
    "os.makedirs(processed_data_folter, exist_ok=True)\n",
    "data.to_csv(os.path.join(processed_data_folter, \"kepler_tess_dataset.csv\"))"
   ]
  }
 ],
 "metadata": {
  "kernelspec": {
   "display_name": "exoplanet",
   "language": "python",
   "name": "python3"
  },
  "language_info": {
   "codemirror_mode": {
    "name": "ipython",
    "version": 3
   },
   "file_extension": ".py",
   "mimetype": "text/x-python",
   "name": "python",
   "nbconvert_exporter": "python",
   "pygments_lexer": "ipython3",
   "version": "3.12.11"
  }
 },
 "nbformat": 4,
 "nbformat_minor": 5
}
